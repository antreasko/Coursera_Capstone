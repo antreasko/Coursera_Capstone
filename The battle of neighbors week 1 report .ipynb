{
 "cells": [
  {
   "cell_type": "markdown",
   "metadata": {},
   "source": [
    "# Selecting the best location to open an SUSHI BAR IN Manhattan, New York"
   ]
  },
  {
   "cell_type": "markdown",
   "metadata": {},
   "source": [
    "### The City of New York is famous for its excelllent cuisine. It's food culture includes an array of international cuisines influenced by the city's immigrant history. \n",
    "\n",
    "### Sushi restaurants have become so popular in the United States now it seems that there is  one on every corner, not only in major cities but also in smaller cities. Starting a sushi restaurant can be a great business opportunity, but you need to distinguish yourself from others to enjoy long-term success."
   ]
  },
  {
   "cell_type": "markdown",
   "metadata": {},
   "source": [
    "### The client wants to open his business in Manhattan area, so I focus on that borough during my analysis. We define potential neighborhood based on the number of sushi bars which are operating right in each neighborhood. Manhattan has full potential but also is a very challenging district to open a business because of high competition. New sushi bar should be open in an area that inadequate neighborhood in this way the bar can attract more customers. Therefore, this analysis necessary to ensure that we have enough customers and that we are not so close to other sushi places."
   ]
  },
  {
   "cell_type": "markdown",
   "metadata": {},
   "source": [
    "### To identify the characteristics of our competitors' venues in Manhattan, we would first need to find out the number of sushi bars in Manhattan currently and their location.\n",
    "### We then used Google Map API to find their geographic coordinates based on their postal code addresses.\n"
   ]
  },
  {
   "cell_type": "markdown",
   "metadata": {},
   "source": [
    "### Next, we also used Google Map API to find their geographic coordinates of the 5 locations shortlisted for our sushi bar."
   ]
  },
  {
   "cell_type": "markdown",
   "metadata": {},
   "source": [
    "## METHODOLOGY\n",
    "### Addresses are converted into their equivalent latitude and longitude values. \n",
    "### Foursquare API is used to explore neighborhoods in Manhattan, New York. \n",
    "### After that, explore function to get sushi restaurant categories in each neighborhood.\n"
   ]
  },
  {
   "cell_type": "markdown",
   "metadata": {},
   "source": [
    "### Then using this feature to group the neighborhoods into clusters K-means clustering algorithm will be use to complete this task. And also, the Folium library to visualize the neighborhoods in Manhattan and its emerging clusters."
   ]
  },
  {
   "cell_type": "markdown",
   "metadata": {},
   "source": [
    "### Finally we use K-mean to cluster data areas with less number of sushi bars"
   ]
  },
  {
   "cell_type": "code",
   "execution_count": null,
   "metadata": {},
   "outputs": [],
   "source": []
  }
 ],
 "metadata": {
  "kernelspec": {
   "display_name": "Python 3",
   "language": "python",
   "name": "python3"
  },
  "language_info": {
   "codemirror_mode": {
    "name": "ipython",
    "version": 3
   },
   "file_extension": ".py",
   "mimetype": "text/x-python",
   "name": "python",
   "nbconvert_exporter": "python",
   "pygments_lexer": "ipython3",
   "version": "3.7.7"
  }
 },
 "nbformat": 4,
 "nbformat_minor": 4
}
